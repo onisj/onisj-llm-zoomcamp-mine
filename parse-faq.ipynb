{
 "cells": [
  {
   "cell_type": "markdown",
   "id": "09836848-b30b-4582-9a54-5f6a3055cf2b",
   "metadata": {},
   "source": [
    "# **Downloading The FAQs**"
   ]
  },
  {
   "cell_type": "code",
   "execution_count": 2,
   "id": "7baaa435-15e6-4252-a646-8d277688bcde",
   "metadata": {},
   "outputs": [],
   "source": [
    "# !pip install python-docx"
   ]
  },
  {
   "cell_type": "code",
   "execution_count": 7,
   "id": "1b4c8fe4-106c-4907-8dbd-4ce68774a175",
   "metadata": {},
   "outputs": [],
   "source": [
    "# Import libraries\n",
    "import io  # Import for handling binary data streams and file I/O operations.\n",
    "\n",
    "import requests  # Import for making HTTP requests and handling responses.\n",
    "import docx  # Import for working with Microsoft Word .docx files.\n",
    "\n",
    "import json  # Import for JSON (JavaScript Object Notation) serialization and deserialization.\n"
   ]
  },
  {
   "cell_type": "code",
   "execution_count": 4,
   "id": "cffa2872-0b6d-4401-9b22-a157103cd7e3",
   "metadata": {},
   "outputs": [],
   "source": [
    "# Functions that actually do the work\n",
    "\n",
    "\n",
    "def clean_line(line):\n",
    "    \"\"\"\n",
    "    Clean up a line by stripping leading and trailing whitespace and Unicode BOM (Byte Order Mark).\n",
    "\n",
    "    Args:\n",
    "    - line (str): The line of text to clean.\n",
    "\n",
    "    Returns:\n",
    "    - str: The cleaned line.\n",
    "    \"\"\"\n",
    "    line = line.strip()\n",
    "    line = line.strip('\\uFEFF')  # Strip Unicode BOM (Byte Order Mark)\n",
    "    return line\n",
    "\n",
    "def read_faq(file_id):\n",
    "    \"\"\"\n",
    "    Read and parse an FAQ document from Google Docs exported as .docx format.\n",
    "\n",
    "    Args:\n",
    "    - file_id (str): The ID of the Google Docs file.\n",
    "\n",
    "    Returns:\n",
    "    - list: A list of dictionaries representing each FAQ entry, with keys 'text', 'section', and 'question'.\n",
    "    \"\"\"\n",
    "    url = f'https://docs.google.com/document/d/{file_id}/export?format=docx'\n",
    "\n",
    "    # Fetch the document from Google Docs\n",
    "    response = requests.get(url)\n",
    "    response.raise_for_status()  # Raise an exception for HTTP errors\n",
    "\n",
    "    # Read the .docx content into a document object\n",
    "    with io.BytesIO(response.content) as f_in:\n",
    "        doc = docx.Document(f_in)\n",
    "\n",
    "    questions = []\n",
    "\n",
    "    question_heading_style = 'heading 2'\n",
    "    section_heading_style = 'heading 1'\n",
    "\n",
    "    heading_id = ''\n",
    "    section_title = ''\n",
    "    question_title = ''\n",
    "    answer_text_so_far = ''\n",
    "\n",
    "    # Iterate through paragraphs in the document\n",
    "    for p in doc.paragraphs:\n",
    "        style = p.style.name.lower()\n",
    "        p_text = clean_line(p.text)\n",
    "\n",
    "        if len(p_text) == 0:\n",
    "            continue\n",
    "\n",
    "        # Check for section heading style\n",
    "        if style == section_heading_style:\n",
    "            section_title = p_text\n",
    "            continue\n",
    "\n",
    "        # Check for question heading style\n",
    "        if style == question_heading_style:\n",
    "            # Store the previous answer if there is one\n",
    "            answer_text_so_far = answer_text_so_far.strip()\n",
    "            if answer_text_so_far != '' and section_title != '' and question_title != '':\n",
    "                questions.append({\n",
    "                    'text': answer_text_so_far,\n",
    "                    'section': section_title,\n",
    "                    'question': question_title,\n",
    "                })\n",
    "                answer_text_so_far = ''\n",
    "\n",
    "            # Update the current question title\n",
    "            question_title = p_text\n",
    "            continue\n",
    "        \n",
    "        # Accumulate answer text under the current question\n",
    "        answer_text_so_far += '\\n' + p_text\n",
    "\n",
    "    # Store the final answer if there is one\n",
    "    answer_text_so_far = answer_text_so_far.strip()\n",
    "    if answer_text_so_far != '' and section_title != '' and question_title != '':\n",
    "        questions.append({\n",
    "            'text': answer_text_so_far,\n",
    "            'section': section_title,\n",
    "            'question': question_title,\n",
    "        })\n",
    "\n",
    "    return questions\n"
   ]
  },
  {
   "cell_type": "code",
   "execution_count": 5,
   "id": "a29ef8b1-3fc1-4f5a-8f13-2c2d2cbd8f27",
   "metadata": {},
   "outputs": [],
   "source": [
    "# Dictionary mapping FAQ document identifiers to their respective \n",
    "# Google Docs file IDs.\n",
    "faq_documents = {\n",
    "    'data-engineering-zoomcamp': '19bnYs80DwuUimHM65UV3sylsCn2j1vziPOwzBwQrebw',\n",
    "    'machine-learning-zoomcamp': '1LpPanc33QJJ6BSsyxVg-pWNMplal84TdZtq10naIhD8',\n",
    "    'mlops-zoomcamp': '12TlBfhIiKtyBv8RnsoJR6F72bkPDGEvPOItJIxaEzE0',\n",
    "}\n"
   ]
  },
  {
   "cell_type": "code",
   "execution_count": 6,
   "id": "e06b279b-f0f5-4c5c-8b26-204acfc0859d",
   "metadata": {},
   "outputs": [
    {
     "name": "stdout",
     "output_type": "stream",
     "text": [
      "data-engineering-zoomcamp\n",
      "machine-learning-zoomcamp\n",
      "mlops-zoomcamp\n"
     ]
    }
   ],
   "source": [
    "# Creates an empty document list\n",
    "documents = []\n",
    "\n",
    "# Iterate through each course and its corresponding Google Docs file ID\n",
    "for course, file_id in faq_documents.items():\n",
    "    print(course)  # Print the course identifier (optional, for debugging or monitoring progress)\n",
    "    \n",
    "    # Read FAQs from the Google Docs file associated with the current course\n",
    "    course_documents = read_faq(file_id)\n",
    "    \n",
    "    # Create a dictionary entry for the current course with its FAQs\n",
    "    course_entry = {\n",
    "        'course': course,       # Store the course identifier\n",
    "        'documents': course_documents  # Store the list of FAQs for the course\n",
    "    }\n",
    "    \n",
    "    # Append the course entry dictionary to the documents list\n",
    "    documents.append(course_entry)\n"
   ]
  },
  {
   "cell_type": "code",
   "execution_count": 8,
   "id": "759a8378-858d-49e6-9ba8-2397a0cec556",
   "metadata": {},
   "outputs": [],
   "source": [
    "with open('documents.json', 'wt') as f_out:\n",
    "    # Write the 'documents' list to 'documents.json' file\n",
    "    # Using json.dump() to serialize 'documents' into JSON format\n",
    "    # Indent=2 for pretty-printing with indentation level of 2 spaces\n",
    "    json.dump(documents, f_out, indent=2)\n"
   ]
  },
  {
   "cell_type": "code",
   "execution_count": 9,
   "id": "6c447c4b-5fe1-4600-86f3-e25b11bf1cce",
   "metadata": {},
   "outputs": [
    {
     "name": "stdout",
     "output_type": "stream",
     "text": [
      "[\n",
      "  {\n",
      "    \"course\": \"data-engineering-zoomcamp\",\n",
      "    \"documents\": [\n",
      "      {\n",
      "        \"text\": \"The purpose of this document is to capture frequently asked technical questions\\nThe exact day and hour of the course will be 15th Jan 2024 at 17h00. The course will start with the first  \\u201cOffice Hours'' live.1\\nSubscribe to course public Google Calendar (it works from Desktop only).\\nRegister before the course starts using this link.\\nJoin the course Telegram channel with announcements.\\nDon\\u2019t forget to register in DataTalks.Club's Slack and join the channel.\",\n",
      "        \"section\": \"General course-related questions\",\n",
      "        \"question\": \"Course - When will the course start?\"\n",
      "      },\n",
      "      {\n"
     ]
    }
   ],
   "source": [
    "# Display the first few lines of the documents.json file \n",
    "# using the 'head' command\n",
    "\n",
    "!head documents.json"
   ]
  },
  {
   "cell_type": "code",
   "execution_count": null,
   "id": "46504123-17a3-4824-928f-314ba3faead7",
   "metadata": {},
   "outputs": [],
   "source": []
  }
 ],
 "metadata": {
  "kernelspec": {
   "display_name": "Python 3 (ipykernel)",
   "language": "python",
   "name": "python3"
  },
  "language_info": {
   "codemirror_mode": {
    "name": "ipython",
    "version": 3
   },
   "file_extension": ".py",
   "mimetype": "text/x-python",
   "name": "python",
   "nbconvert_exporter": "python",
   "pygments_lexer": "ipython3",
   "version": "3.10.13"
  }
 },
 "nbformat": 4,
 "nbformat_minor": 5
}
